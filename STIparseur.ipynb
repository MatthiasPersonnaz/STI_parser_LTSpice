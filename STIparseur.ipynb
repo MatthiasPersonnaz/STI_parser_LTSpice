{
 "cells": [
  {
   "cell_type": "markdown",
   "id": "46c0dbf1",
   "metadata": {},
   "source": [
    "# Parseur à l'aide d'automates en STI\n",
    "\n",
    "Ce document explique comment synthétiser un circuit minimal (au sens des automates finis déterministes, pas nécessairement au sens du nombre de transistors) détectant un motif binaire à l'aide d'une machine de Moore (donc théorie des automates en informatique). J'ai utilisé des bibliothèques Python adaptées (*automata*: https://github.com/caleb531/automata/ et Sympy) et déjà existantes pour simplifier la tâche. L'output produit est directement utilisable pour créer le circuit sur LTSpice."
   ]
  },
  {
   "cell_type": "code",
   "execution_count": 20,
   "id": "2d81edae",
   "metadata": {},
   "outputs": [],
   "source": [
    "from automata.fa.dfa import DFA\n",
    "from automata.fa.nfa import NFA\n",
    "\n",
    "from visual_automata.fa.dfa import VisualDFA\n",
    "from visual_automata.fa.nfa import VisualNFA\n",
    "\n",
    "import numpy as np\n",
    "import sympy\n",
    "import itertools"
   ]
  },
  {
   "cell_type": "markdown",
   "id": "b1c937ef",
   "metadata": {},
   "source": [
    "On commence par créer quelques automates pour vérifier que tout fonctionne"
   ]
  },
  {
   "cell_type": "code",
   "execution_count": 21,
   "id": "5468fd2e",
   "metadata": {},
   "outputs": [],
   "source": [
    "nfa = VisualNFA(\n",
    "    states={\"q0\", \"q1\", \"q2\", \"q3\", \"q4\"},\n",
    "    input_symbols={\"0\", \"1\"},\n",
    "    transitions={\n",
    "        \"q0\": {\"0\": {\"q3\"}, \"1\": {\"q1\", \"q2\"}},\n",
    "        \"q1\": {\"0\": {\"q3\"}, \"1\": {\"q1\"}},\n",
    "        \"q2\": {\"0\": {\"q3\"}, \"1\": {\"q2\", \"q3\"}},\n",
    "        \"q3\": {\"0\": {\"q4\"}, \"1\": {\"q1\"}},\n",
    "        \"q4\": {\"0\": {\"q4\"}, \"1\": {\"q1\"}},\n",
    "    },\n",
    "    initial_state=\"q0\",\n",
    "    final_states={\"q2\", \"q4\"},\n",
    ")\n",
    "\n",
    "dfa = VisualDFA(\n",
    "    states={\"q0\", \"q1\", \"q2\", \"q3\", \"q4\"},\n",
    "    input_symbols={\"0\", \"1\"},\n",
    "    transitions={\n",
    "        \"q0\": {\"0\": \"q3\", \"1\": \"q1\"},\n",
    "        \"q1\": {\"0\": \"q3\", \"1\": \"q2\"},\n",
    "        \"q2\": {\"0\": \"q3\", \"1\": \"q2\"},\n",
    "        \"q3\": {\"0\": \"q4\", \"1\": \"q1\"},\n",
    "        \"q4\": {\"0\": \"q4\", \"1\": \"q1\"},\n",
    "    },\n",
    "    initial_state=\"q0\",\n",
    "    final_states={\"q2\", \"q4\"},\n",
    ")"
   ]
  },
  {
   "cell_type": "markdown",
   "id": "4f00fef2",
   "metadata": {},
   "source": [
    "# Synthèse d'automate de recherche de motif avec des portes OU et ET\n",
    "## Construction naïve avec les méthodes de déterminisation de la classe `automata.fa`"
   ]
  },
  {
   "cell_type": "code",
   "execution_count": 219,
   "id": "ca5cd023",
   "metadata": {},
   "outputs": [],
   "source": [
    "## On commence par synthétiser les variables pour un AFD naïf qui cherche notre motif binaire\n",
    "alphabet = {\"0\",\"1\"}\n",
    "motBinaire = \"011\"\n",
    "motif = list(motBinaire)\n",
    "etats = set([f\"q{i}\" for i in range(len(motif)+1)])\n",
    "ef = f\"q{len(motif)}\"\n",
    "trans = [{motif[i]:set([f\"q{i+1}\"])} for i in range(len(motif))]\n",
    "delta = {f\"q{i}\":x for i,x in enumerate(trans)} # dict(enumerate(trans)) donnerait des entiers\n",
    "# on ajoute les deux transitions absorbantes dans le dernier état:\n",
    "delta[ef] = {e: {ef} for e in alphabet} # pour détecter une séquence    CONTENANT     le motif i.e. reconnaissant Σ*uΣ*\n",
    "delta[ef] = {}                          # pour détecter une séquence SE TERMINANT par le motif i.e. reconnaissant Σ*u\n",
    "# on ajoute les transitions absorbantes pour le premier état:\n",
    "for a in alphabet:\n",
    "    if a == motBinaire[0]:\n",
    "        delta[\"q0\"][a].add(\"q0\")\n",
    "    else:\n",
    "        delta[\"q0\"][a] = {\"q0\"}\n",
    "        \n",
    "## On crée ensuite l'automate à proprement parler dans la bibliothèque automata\n",
    "## qu'on déterminise grâce à l'automate des parties puis minimise avec l'algorithme de Moore\n",
    "nfa = NFA(states=etats, input_symbols=alphabet, transitions=delta, initial_state=\"q0\", final_states={ef})\n",
    "nfav = VisualNFA(nfa)\n",
    "dfa = DFA.from_nfa(nfa)\n",
    "dfav = VisualDFA(dfa)\n",
    "min_dfa = dfa.minify(retain_names=False)\n",
    "min_dfav = VisualDFA(min_dfa)\n",
    "\n",
    "\n",
    "def echangerEtats(A,q1,q2): # pour un automate déterministe\n",
    "    # d'abord on change les transisions ENTRANTES de chaque état\n",
    "    for q in A.states:\n",
    "        for a in A.input_symbols:\n",
    "            if A.transitions[q][a] == q1:\n",
    "                A.transitions[q][a] = q2\n",
    "            elif A.transitions[q][a] == q2:\n",
    "                A.transitions[q][a] = q1\n",
    "    \n",
    "    # on échange les bases des transisions SORTANTES des deux états échangés\n",
    "    A.transitions[q1],A.transitions[q2] = A.transitions[q2],A.transitions[q1]\n",
    "    \n",
    "    if q1 in A.final_states and q2 not in A.final_states:\n",
    "        A.final_states.remove(q1)\n",
    "        A.final_states.add(q2)\n",
    "    elif q2 in A.final_states and q1 not in A.final_states:\n",
    "        A.final_states.remove(q2)\n",
    "        A.final_states.add(q1)\n",
    "\n",
    "    if A.initial_state == q1:\n",
    "        A.initial_state = q2\n",
    "    elif A.initial_state == q2:\n",
    "        A.initial_state = q1\n",
    "\n",
    "## à ce stade l'état initial n'est pas forcément numéroté à 0\n",
    "## ce qui est primordial ensuite pour l'implémentation avec des transtors\n",
    "if min_dfav.initial_state != '0':\n",
    "    echangerEtats(min_dfav,'0',min_dfav.initial_state)"
   ]
  },
  {
   "cell_type": "markdown",
   "id": "70b1ca5c",
   "metadata": {},
   "source": [
    "Ci-dessous, on affiche les trois automates successivement créés: NDFA, à DFA au DFA minimal.\\\\"
   ]
  },
  {
   "cell_type": "code",
   "execution_count": 220,
   "id": "0a15b672",
   "metadata": {},
   "outputs": [
    {
     "data": {
      "image/svg+xml": [
       "<?xml version=\"1.0\" encoding=\"UTF-8\" standalone=\"no\"?>\r\n",
       "<!DOCTYPE svg PUBLIC \"-//W3C//DTD SVG 1.1//EN\"\r\n",
       " \"http://www.w3.org/Graphics/SVG/1.1/DTD/svg11.dtd\">\r\n",
       "<!-- Generated by graphviz version 2.38.0 (20140413.2041)\r\n",
       " -->\r\n",
       "<!-- Title: %3 Pages: 1 -->\r\n",
       "<svg width=\"371pt\" height=\"118pt\"\r\n",
       " viewBox=\"0.00 0.00 370.79 118.30\" xmlns=\"http://www.w3.org/2000/svg\" xmlns:xlink=\"http://www.w3.org/1999/xlink\">\r\n",
       "<g id=\"graph0\" class=\"graph\" transform=\"scale(1 1) rotate(0) translate(4 114.296)\">\r\n",
       "<title>%3</title>\r\n",
       "<polygon fill=\"white\" stroke=\"none\" points=\"-4,4 -4,-114.296 366.786,-114.296 366.786,4 -4,4\"/>\r\n",
       "<!-- Initial -->\r\n",
       "<g id=\"node1\" class=\"node\"><title>Initial</title>\r\n",
       "<ellipse fill=\"black\" stroke=\"black\" cx=\"1.8\" cy=\"-24.1482\" rx=\"1.8\" ry=\"1.8\"/>\r\n",
       "</g>\r\n",
       "<!-- q0 -->\r\n",
       "<g id=\"node2\" class=\"node\"><title>q0</title>\r\n",
       "<ellipse fill=\"none\" stroke=\"black\" cx=\"60.7482\" cy=\"-24.1482\" rx=\"20.2975\" ry=\"20.2975\"/>\r\n",
       "<text text-anchor=\"middle\" x=\"60.7482\" y=\"-20.4482\" font-family=\"Times New Roman,serif\" font-size=\"14.00\">q0</text>\r\n",
       "</g>\r\n",
       "<!-- Initial&#45;&gt;q0 -->\r\n",
       "<g id=\"edge1\" class=\"edge\"><title>Initial&#45;&gt;q0</title>\r\n",
       "<path fill=\"none\" stroke=\"black\" d=\"M3.78844,-24.1482C7.28265,-24.1482 19.4955,-24.1482 31.6237,-24.1482\"/>\r\n",
       "<polygon fill=\"black\" stroke=\"black\" points=\"31.8142,-27.1233 40.3141,-24.1482 31.8141,-21.1733 31.8142,-27.1233\"/>\r\n",
       "</g>\r\n",
       "<!-- q0&#45;&gt;q0 -->\r\n",
       "<g id=\"edge3\" class=\"edge\"><title>q0&#45;&gt;q0</title>\r\n",
       "<path fill=\"none\" stroke=\"black\" d=\"M57.2727,-44.1672C56.8436,-53.7963 58.0021,-62.2964 60.7482,-62.2964 62.5932,-62.2964 63.7216,-58.4593 64.1333,-53.0208\"/>\r\n",
       "<polygon fill=\"black\" stroke=\"black\" points=\"67.1117,-52.6972 64.2237,-44.1672 61.162,-52.6363 67.1117,-52.6972\"/>\r\n",
       "<text text-anchor=\"middle\" x=\"60.7482\" y=\"-66.0964\" font-family=\"Times New Roman,serif\" font-size=\"14.00\"> 0 </text>\r\n",
       "</g>\r\n",
       "<!-- q0&#45;&gt;q0 -->\r\n",
       "<g id=\"edge4\" class=\"edge\"><title>q0&#45;&gt;q0</title>\r\n",
       "<path fill=\"none\" stroke=\"black\" d=\"M54.8913,-43.714C52.042,-61.377 53.9943,-80.2964 60.7482,-80.2964 66.3941,-80.2964 68.6846,-67.0757 67.6198,-52.4199\"/>\r\n",
       "<polygon fill=\"black\" stroke=\"black\" points=\"70.5442,-51.8124 66.6051,-43.714 64.6342,-52.5013 70.5442,-51.8124\"/>\r\n",
       "<text text-anchor=\"middle\" x=\"60.7482\" y=\"-84.0964\" font-family=\"Times New Roman,serif\" font-size=\"14.00\"> 1 </text>\r\n",
       "</g>\r\n",
       "<!-- q1 -->\r\n",
       "<g id=\"node3\" class=\"node\"><title>q1</title>\r\n",
       "<ellipse fill=\"none\" stroke=\"black\" cx=\"152.045\" cy=\"-24.1482\" rx=\"20.2975\" ry=\"20.2975\"/>\r\n",
       "<text text-anchor=\"middle\" x=\"152.045\" y=\"-20.4482\" font-family=\"Times New Roman,serif\" font-size=\"14.00\">q1</text>\r\n",
       "</g>\r\n",
       "<!-- q0&#45;&gt;q1 -->\r\n",
       "<g id=\"edge2\" class=\"edge\"><title>q0&#45;&gt;q1</title>\r\n",
       "<path fill=\"none\" stroke=\"black\" d=\"M81.1242,-24.1482C93.4108,-24.1482 109.505,-24.1482 123.154,-24.1482\"/>\r\n",
       "<polygon fill=\"black\" stroke=\"black\" points=\"123.206,-27.1233 131.706,-24.1482 123.206,-21.1733 123.206,-27.1233\"/>\r\n",
       "<text text-anchor=\"middle\" x=\"106.396\" y=\"-27.9482\" font-family=\"Times New Roman,serif\" font-size=\"14.00\"> 0 </text>\r\n",
       "</g>\r\n",
       "<!-- q2 -->\r\n",
       "<g id=\"node4\" class=\"node\"><title>q2</title>\r\n",
       "<ellipse fill=\"none\" stroke=\"black\" cx=\"243.341\" cy=\"-24.1482\" rx=\"20.2975\" ry=\"20.2975\"/>\r\n",
       "<text text-anchor=\"middle\" x=\"243.341\" y=\"-20.4482\" font-family=\"Times New Roman,serif\" font-size=\"14.00\">q2</text>\r\n",
       "</g>\r\n",
       "<!-- q1&#45;&gt;q2 -->\r\n",
       "<g id=\"edge5\" class=\"edge\"><title>q1&#45;&gt;q2</title>\r\n",
       "<path fill=\"none\" stroke=\"black\" d=\"M172.421,-24.1482C184.707,-24.1482 200.801,-24.1482 214.451,-24.1482\"/>\r\n",
       "<polygon fill=\"black\" stroke=\"black\" points=\"214.503,-27.1233 223.003,-24.1482 214.503,-21.1733 214.503,-27.1233\"/>\r\n",
       "<text text-anchor=\"middle\" x=\"197.693\" y=\"-27.9482\" font-family=\"Times New Roman,serif\" font-size=\"14.00\"> 1 </text>\r\n",
       "</g>\r\n",
       "<!-- q3 -->\r\n",
       "<g id=\"node5\" class=\"node\"><title>q3</title>\r\n",
       "<ellipse fill=\"none\" stroke=\"black\" cx=\"338.637\" cy=\"-24.1482\" rx=\"20.2726\" ry=\"20.2726\"/>\r\n",
       "<ellipse fill=\"none\" stroke=\"black\" cx=\"338.637\" cy=\"-24.1482\" rx=\"24.2973\" ry=\"24.2973\"/>\r\n",
       "<text text-anchor=\"middle\" x=\"338.637\" y=\"-20.4482\" font-family=\"Times New Roman,serif\" font-size=\"14.00\">q3</text>\r\n",
       "</g>\r\n",
       "<!-- q2&#45;&gt;q3 -->\r\n",
       "<g id=\"edge6\" class=\"edge\"><title>q2&#45;&gt;q3</title>\r\n",
       "<path fill=\"none\" stroke=\"black\" d=\"M263.672,-24.1482C275.756,-24.1482 291.616,-24.1482 305.55,-24.1482\"/>\r\n",
       "<polygon fill=\"black\" stroke=\"black\" points=\"305.869,-27.1233 314.369,-24.1482 305.869,-21.1733 305.869,-27.1233\"/>\r\n",
       "<text text-anchor=\"middle\" x=\"288.989\" y=\"-27.9482\" font-family=\"Times New Roman,serif\" font-size=\"14.00\"> 1 </text>\r\n",
       "</g>\r\n",
       "</g>\r\n",
       "</svg>\r\n"
      ],
      "text/plain": [
       "<graphviz.dot.Digraph at 0x18c7f52cc70>"
      ]
     },
     "execution_count": 220,
     "metadata": {},
     "output_type": "execute_result"
    }
   ],
   "source": [
    "nfav.show_diagram()"
   ]
  },
  {
   "cell_type": "code",
   "execution_count": 221,
   "id": "d83cc066",
   "metadata": {},
   "outputs": [
    {
     "data": {
      "image/svg+xml": [
       "<?xml version=\"1.0\" encoding=\"UTF-8\" standalone=\"no\"?>\r\n",
       "<!DOCTYPE svg PUBLIC \"-//W3C//DTD SVG 1.1//EN\"\r\n",
       " \"http://www.w3.org/Graphics/SVG/1.1/DTD/svg11.dtd\">\r\n",
       "<!-- Generated by graphviz version 2.38.0 (20140413.2041)\r\n",
       " -->\r\n",
       "<!-- Title: %3 Pages: 1 -->\r\n",
       "<svg width=\"509pt\" height=\"179pt\"\r\n",
       " viewBox=\"0.00 0.00 508.57 178.89\" xmlns=\"http://www.w3.org/2000/svg\" xmlns:xlink=\"http://www.w3.org/1999/xlink\">\r\n",
       "<g id=\"graph0\" class=\"graph\" transform=\"scale(1 1) rotate(0) translate(4 174.894)\">\r\n",
       "<title>%3</title>\r\n",
       "<polygon fill=\"white\" stroke=\"none\" points=\"-4,4 -4,-174.894 504.573,-174.894 504.573,4 -4,4\"/>\r\n",
       "<!-- Initial -->\r\n",
       "<g id=\"node1\" class=\"node\"><title>Initial</title>\r\n",
       "<ellipse fill=\"black\" stroke=\"black\" cx=\"1.8\" cy=\"-109.296\" rx=\"1.8\" ry=\"1.8\"/>\r\n",
       "</g>\r\n",
       "<!-- {q0} -->\r\n",
       "<g id=\"node5\" class=\"node\"><title>{q0}</title>\r\n",
       "<ellipse fill=\"none\" stroke=\"black\" cx=\"69.1975\" cy=\"-109.296\" rx=\"28.6953\" ry=\"28.6953\"/>\r\n",
       "<text text-anchor=\"middle\" x=\"69.1975\" y=\"-105.596\" font-family=\"Times New Roman,serif\" font-size=\"14.00\">{q0}</text>\r\n",
       "</g>\r\n",
       "<!-- Initial&#45;&gt;{q0} -->\r\n",
       "<g id=\"edge1\" class=\"edge\"><title>Initial&#45;&gt;{q0}</title>\r\n",
       "<path fill=\"none\" stroke=\"black\" d=\"M3.9351,-109.296C7.5457,-109.296 19.2627,-109.296 31.7211,-109.296\"/>\r\n",
       "<polygon fill=\"black\" stroke=\"black\" points=\"31.8742,-112.272 40.3742,-109.296 31.8741,-106.322 31.8742,-112.272\"/>\r\n",
       "</g>\r\n",
       "<!-- {q0,q1} -->\r\n",
       "<g id=\"node2\" class=\"node\"><title>{q0,q1}</title>\r\n",
       "<ellipse fill=\"none\" stroke=\"black\" cx=\"189.091\" cy=\"-40.2964\" rx=\"40.0939\" ry=\"40.0939\"/>\r\n",
       "<text text-anchor=\"middle\" x=\"189.091\" y=\"-36.5964\" font-family=\"Times New Roman,serif\" font-size=\"14.00\">{q0,q1}</text>\r\n",
       "</g>\r\n",
       "<!-- {q0,q1}&#45;&gt;{q0,q1} -->\r\n",
       "<g id=\"edge4\" class=\"edge\"><title>{q0,q1}&#45;&gt;{q0,q1}</title>\r\n",
       "<path fill=\"none\" stroke=\"black\" d=\"M177.138,-78.9786C177.607,-90.0533 181.591,-98.5928 189.091,-98.5928 194.482,-98.5928 198.056,-94.1813 199.815,-87.5877\"/>\r\n",
       "<polygon fill=\"black\" stroke=\"black\" points=\"202.787,-87.814 201.044,-78.9786 196.897,-86.9725 202.787,-87.814\"/>\r\n",
       "<text text-anchor=\"middle\" x=\"189.091\" y=\"-102.393\" font-family=\"Times New Roman,serif\" font-size=\"14.00\"> 0 </text>\r\n",
       "</g>\r\n",
       "<!-- {q0,q2} -->\r\n",
       "<g id=\"node3\" class=\"node\"><title>{q0,q2}</title>\r\n",
       "<ellipse fill=\"none\" stroke=\"black\" cx=\"320.684\" cy=\"-75.2964\" rx=\"40.0939\" ry=\"40.0939\"/>\r\n",
       "<text text-anchor=\"middle\" x=\"320.684\" y=\"-71.5964\" font-family=\"Times New Roman,serif\" font-size=\"14.00\">{q0,q2}</text>\r\n",
       "</g>\r\n",
       "<!-- {q0,q1}&#45;&gt;{q0,q2} -->\r\n",
       "<g id=\"edge5\" class=\"edge\"><title>{q0,q1}&#45;&gt;{q0,q2}</title>\r\n",
       "<path fill=\"none\" stroke=\"black\" d=\"M228.273,-50.6083C242.253,-54.384 258.234,-58.7002 272.882,-62.6564\"/>\r\n",
       "<polygon fill=\"black\" stroke=\"black\" points=\"272.346,-65.5931 281.328,-64.9373 273.898,-59.8489 272.346,-65.5931\"/>\r\n",
       "<text text-anchor=\"middle\" x=\"254.888\" y=\"-62.0964\" font-family=\"Times New Roman,serif\" font-size=\"14.00\"> 1 </text>\r\n",
       "</g>\r\n",
       "<!-- {q0,q2}&#45;&gt;{q0,q1} -->\r\n",
       "<g id=\"edge6\" class=\"edge\"><title>{q0,q2}&#45;&gt;{q0,q1}</title>\r\n",
       "<path fill=\"none\" stroke=\"black\" d=\"M288.943,-50.2141C280.78,-44.9161 271.645,-40.0871 262.388,-37.2964 254.532,-34.9282 245.979,-33.9637 237.596,-33.8407\"/>\r\n",
       "<polygon fill=\"black\" stroke=\"black\" points=\"237.404,-30.8685 228.958,-33.9936 237.509,-36.8176 237.404,-30.8685\"/>\r\n",
       "<text text-anchor=\"middle\" x=\"254.888\" y=\"-41.0964\" font-family=\"Times New Roman,serif\" font-size=\"14.00\"> 0 </text>\r\n",
       "</g>\r\n",
       "<!-- {q0,q3} -->\r\n",
       "<g id=\"node4\" class=\"node\"><title>{q0,q3}</title>\r\n",
       "<ellipse fill=\"none\" stroke=\"black\" cx=\"456.277\" cy=\"-75.2964\" rx=\"40.1121\" ry=\"40.1121\"/>\r\n",
       "<ellipse fill=\"none\" stroke=\"black\" cx=\"456.277\" cy=\"-75.2964\" rx=\"44.0938\" ry=\"44.0938\"/>\r\n",
       "<text text-anchor=\"middle\" x=\"456.277\" y=\"-71.5964\" font-family=\"Times New Roman,serif\" font-size=\"14.00\">{q0,q3}</text>\r\n",
       "</g>\r\n",
       "<!-- {q0,q2}&#45;&gt;{q0,q3} -->\r\n",
       "<g id=\"edge7\" class=\"edge\"><title>{q0,q2}&#45;&gt;{q0,q3}</title>\r\n",
       "<path fill=\"none\" stroke=\"black\" d=\"M361.044,-75.2964C374.174,-75.2964 389.016,-75.2964 402.971,-75.2964\"/>\r\n",
       "<polygon fill=\"black\" stroke=\"black\" points=\"403.022,-78.2715 411.522,-75.2964 403.022,-72.3215 403.022,-78.2715\"/>\r\n",
       "<text text-anchor=\"middle\" x=\"386.481\" y=\"-79.0964\" font-family=\"Times New Roman,serif\" font-size=\"14.00\"> 1 </text>\r\n",
       "</g>\r\n",
       "<!-- {q0,q3}&#45;&gt;{q0,q1} -->\r\n",
       "<g id=\"edge8\" class=\"edge\"><title>{q0,q3}&#45;&gt;{q0,q1}</title>\r\n",
       "<path fill=\"none\" stroke=\"black\" d=\"M422.501,-45.8693C405.445,-32.5281 383.487,-18.2127 360.981,-11.2964 319.038,1.59271 269.436,-9.60872 234.506,-21.6395\"/>\r\n",
       "<polygon fill=\"black\" stroke=\"black\" points=\"233.402,-18.8746 226.399,-24.5369 235.405,-24.4774 233.402,-18.8746\"/>\r\n",
       "<text text-anchor=\"middle\" x=\"320.684\" y=\"-15.0964\" font-family=\"Times New Roman,serif\" font-size=\"14.00\"> 0 </text>\r\n",
       "</g>\r\n",
       "<!-- {q0,q3}&#45;&gt;{q0} -->\r\n",
       "<g id=\"edge9\" class=\"edge\"><title>{q0,q3}&#45;&gt;{q0}</title>\r\n",
       "<path fill=\"none\" stroke=\"black\" d=\"M418.837,-99.4518C401.979,-109.222 381.233,-119.349 360.981,-124.296 271.019,-146.275 160.9,-129.115 105.544,-117.578\"/>\r\n",
       "<polygon fill=\"black\" stroke=\"black\" points=\"106.076,-114.649 97.1419,-115.781 104.832,-120.468 106.076,-114.649\"/>\r\n",
       "<text text-anchor=\"middle\" x=\"254.888\" y=\"-138.096\" font-family=\"Times New Roman,serif\" font-size=\"14.00\"> 1 </text>\r\n",
       "</g>\r\n",
       "<!-- {q0}&#45;&gt;{q0,q1} -->\r\n",
       "<g id=\"edge2\" class=\"edge\"><title>{q0}&#45;&gt;{q0,q1}</title>\r\n",
       "<path fill=\"none\" stroke=\"black\" d=\"M94.3395,-95.1667C109.178,-86.4822 128.601,-75.1147 145.917,-64.98\"/>\r\n",
       "<polygon fill=\"black\" stroke=\"black\" points=\"147.867,-67.2855 153.701,-60.4243 144.862,-62.1503 147.867,-67.2855\"/>\r\n",
       "<text text-anchor=\"middle\" x=\"123.295\" y=\"-84.0964\" font-family=\"Times New Roman,serif\" font-size=\"14.00\"> 0 </text>\r\n",
       "</g>\r\n",
       "<!-- {q0}&#45;&gt;{q0} -->\r\n",
       "<g id=\"edge3\" class=\"edge\"><title>{q0}&#45;&gt;{q0}</title>\r\n",
       "<path fill=\"none\" stroke=\"black\" d=\"M60.6062,-136.578C60.2243,-147.127 63.0881,-155.894 69.1975,-155.894 73.4931,-155.894 76.1842,-151.559 77.2707,-145.319\"/>\r\n",
       "<polygon fill=\"black\" stroke=\"black\" points=\"80.2555,-145.239 77.7888,-136.578 74.316,-144.887 80.2555,-145.239\"/>\r\n",
       "<text text-anchor=\"middle\" x=\"69.1975\" y=\"-159.694\" font-family=\"Times New Roman,serif\" font-size=\"14.00\"> 1 </text>\r\n",
       "</g>\r\n",
       "</g>\r\n",
       "</svg>\r\n"
      ],
      "text/plain": [
       "<graphviz.dot.Digraph at 0x18c7f52c790>"
      ]
     },
     "execution_count": 221,
     "metadata": {},
     "output_type": "execute_result"
    }
   ],
   "source": [
    "dfav.show_diagram()"
   ]
  },
  {
   "cell_type": "code",
   "execution_count": 222,
   "id": "fa3362a6",
   "metadata": {},
   "outputs": [
    {
     "data": {
      "image/svg+xml": [
       "<?xml version=\"1.0\" encoding=\"UTF-8\" standalone=\"no\"?>\r\n",
       "<!DOCTYPE svg PUBLIC \"-//W3C//DTD SVG 1.1//EN\"\r\n",
       " \"http://www.w3.org/Graphics/SVG/1.1/DTD/svg11.dtd\">\r\n",
       "<!-- Generated by graphviz version 2.38.0 (20140413.2041)\r\n",
       " -->\r\n",
       "<!-- Title: %3 Pages: 1 -->\r\n",
       "<svg width=\"354pt\" height=\"115pt\"\r\n",
       " viewBox=\"0.00 0.00 353.60 115.00\" xmlns=\"http://www.w3.org/2000/svg\" xmlns:xlink=\"http://www.w3.org/1999/xlink\">\r\n",
       "<g id=\"graph0\" class=\"graph\" transform=\"scale(1 1) rotate(0) translate(4 111)\">\r\n",
       "<title>%3</title>\r\n",
       "<polygon fill=\"white\" stroke=\"none\" points=\"-4,4 -4,-111 349.6,-111 349.6,4 -4,4\"/>\r\n",
       "<!-- Initial -->\r\n",
       "<g id=\"node1\" class=\"node\"><title>Initial</title>\r\n",
       "<ellipse fill=\"black\" stroke=\"black\" cx=\"1.8\" cy=\"-18\" rx=\"1.8\" ry=\"1.8\"/>\r\n",
       "</g>\r\n",
       "<!-- 0 -->\r\n",
       "<g id=\"node2\" class=\"node\"><title>0</title>\r\n",
       "<ellipse fill=\"none\" stroke=\"black\" cx=\"58.6\" cy=\"-18\" rx=\"18\" ry=\"18\"/>\r\n",
       "<text text-anchor=\"middle\" x=\"58.6\" y=\"-14.3\" font-family=\"Times New Roman,serif\" font-size=\"14.00\">0</text>\r\n",
       "</g>\r\n",
       "<!-- Initial&#45;&gt;0 -->\r\n",
       "<g id=\"edge1\" class=\"edge\"><title>Initial&#45;&gt;0</title>\r\n",
       "<path fill=\"none\" stroke=\"black\" d=\"M3.75116,-18C7.2508,-18 19.839,-18 31.9645,-18\"/>\r\n",
       "<polygon fill=\"black\" stroke=\"black\" points=\"32.0754,-20.9751 40.5754,-18 32.0753,-15.0251 32.0754,-20.9751\"/>\r\n",
       "</g>\r\n",
       "<!-- 0&#45;&gt;0 -->\r\n",
       "<g id=\"edge3\" class=\"edge\"><title>0&#45;&gt;0</title>\r\n",
       "<path fill=\"none\" stroke=\"black\" d=\"M52.2208,-35.0373C50.9189,-44.8579 53.0453,-54 58.6,-54 62.4188,-54 64.6173,-49.6789 65.1953,-43.7871\"/>\r\n",
       "<polygon fill=\"black\" stroke=\"black\" points=\"68.1633,-43.4612 64.9792,-35.0373 62.2151,-43.6082 68.1633,-43.4612\"/>\r\n",
       "<text text-anchor=\"middle\" x=\"58.6\" y=\"-57.8\" font-family=\"Times New Roman,serif\" font-size=\"14.00\"> 1 </text>\r\n",
       "</g>\r\n",
       "<!-- 2 -->\r\n",
       "<g id=\"node4\" class=\"node\"><title>2</title>\r\n",
       "<ellipse fill=\"none\" stroke=\"black\" cx=\"145.6\" cy=\"-56\" rx=\"18\" ry=\"18\"/>\r\n",
       "<text text-anchor=\"middle\" x=\"145.6\" y=\"-52.3\" font-family=\"Times New Roman,serif\" font-size=\"14.00\">2</text>\r\n",
       "</g>\r\n",
       "<!-- 0&#45;&gt;2 -->\r\n",
       "<g id=\"edge2\" class=\"edge\"><title>0&#45;&gt;2</title>\r\n",
       "<path fill=\"none\" stroke=\"black\" d=\"M75.5878,-25.1475C88.3717,-30.8626 106.484,-38.96 120.946,-45.4252\"/>\r\n",
       "<polygon fill=\"black\" stroke=\"black\" points=\"119.997,-48.2597 128.971,-49.0129 122.425,-42.8278 119.997,-48.2597\"/>\r\n",
       "<text text-anchor=\"middle\" x=\"102.1\" y=\"-42.8\" font-family=\"Times New Roman,serif\" font-size=\"14.00\"> 0 </text>\r\n",
       "</g>\r\n",
       "<!-- 1 -->\r\n",
       "<g id=\"node3\" class=\"node\"><title>1</title>\r\n",
       "<ellipse fill=\"none\" stroke=\"black\" cx=\"323.6\" cy=\"-44\" rx=\"18\" ry=\"18\"/>\r\n",
       "<ellipse fill=\"none\" stroke=\"black\" cx=\"323.6\" cy=\"-44\" rx=\"22\" ry=\"22\"/>\r\n",
       "<text text-anchor=\"middle\" x=\"323.6\" y=\"-40.3\" font-family=\"Times New Roman,serif\" font-size=\"14.00\">1</text>\r\n",
       "</g>\r\n",
       "<!-- 1&#45;&gt;0 -->\r\n",
       "<g id=\"edge5\" class=\"edge\"><title>1&#45;&gt;0</title>\r\n",
       "<path fill=\"none\" stroke=\"black\" d=\"M303.099,-35.4012C288.816,-29.4227 268.825,-21.7103 250.6,-17 193.034,-2.1215 122.408,-8.57564 85.2571,-13.7783\"/>\r\n",
       "<polygon fill=\"black\" stroke=\"black\" points=\"84.5367,-10.8772 76.5615,-15.0603 85.4046,-16.7636 84.5367,-10.8772\"/>\r\n",
       "<text text-anchor=\"middle\" x=\"189.1\" y=\"-11.8\" font-family=\"Times New Roman,serif\" font-size=\"14.00\"> 1 </text>\r\n",
       "</g>\r\n",
       "<!-- 1&#45;&gt;2 -->\r\n",
       "<g id=\"edge4\" class=\"edge\"><title>1&#45;&gt;2</title>\r\n",
       "<path fill=\"none\" stroke=\"black\" d=\"M303.912,-54.118C297.588,-57.2665 290.403,-60.5507 283.6,-63 269.401,-68.1122 265.585,-69.2096 250.6,-71 220.137,-74.6398 211.618,-75.338 181.6,-69 177.961,-68.2317 174.195,-67.1548 170.542,-65.9462\"/>\r\n",
       "<polygon fill=\"black\" stroke=\"black\" points=\"171.341,-63.0712 162.336,-62.9704 169.312,-68.6649 171.341,-63.0712\"/>\r\n",
       "<text text-anchor=\"middle\" x=\"232.6\" y=\"-76.8\" font-family=\"Times New Roman,serif\" font-size=\"14.00\"> 0 </text>\r\n",
       "</g>\r\n",
       "<!-- 2&#45;&gt;2 -->\r\n",
       "<g id=\"edge6\" class=\"edge\"><title>2&#45;&gt;2</title>\r\n",
       "<path fill=\"none\" stroke=\"black\" d=\"M138.217,-72.6641C136.577,-82.625 139.038,-92 145.6,-92 150.112,-92 152.685,-87.5688 153.319,-81.5626\"/>\r\n",
       "<polygon fill=\"black\" stroke=\"black\" points=\"156.277,-81.0456 152.983,-72.6641 150.331,-81.2704 156.277,-81.0456\"/>\r\n",
       "<text text-anchor=\"middle\" x=\"145.6\" y=\"-95.8\" font-family=\"Times New Roman,serif\" font-size=\"14.00\"> 0 </text>\r\n",
       "</g>\r\n",
       "<!-- 3 -->\r\n",
       "<g id=\"node5\" class=\"node\"><title>3</title>\r\n",
       "<ellipse fill=\"none\" stroke=\"black\" cx=\"232.6\" cy=\"-44\" rx=\"18\" ry=\"18\"/>\r\n",
       "<text text-anchor=\"middle\" x=\"232.6\" y=\"-40.3\" font-family=\"Times New Roman,serif\" font-size=\"14.00\">3</text>\r\n",
       "</g>\r\n",
       "<!-- 2&#45;&gt;3 -->\r\n",
       "<g id=\"edge7\" class=\"edge\"><title>2&#45;&gt;3</title>\r\n",
       "<path fill=\"none\" stroke=\"black\" d=\"M163.726,-53.6144C173.381,-52.2665 185.665,-50.5466 196.6,-49 199.608,-48.5745 202.762,-48.1267 205.892,-47.6809\"/>\r\n",
       "<polygon fill=\"black\" stroke=\"black\" points=\"206.517,-50.597 214.512,-46.451 205.676,-44.7067 206.517,-50.597\"/>\r\n",
       "<text text-anchor=\"middle\" x=\"189.1\" y=\"-53.8\" font-family=\"Times New Roman,serif\" font-size=\"14.00\"> 1 </text>\r\n",
       "</g>\r\n",
       "<!-- 3&#45;&gt;1 -->\r\n",
       "<g id=\"edge9\" class=\"edge\"><title>3&#45;&gt;1</title>\r\n",
       "<path fill=\"none\" stroke=\"black\" d=\"M250.76,-44C262.611,-44 278.685,-44 292.624,-44\"/>\r\n",
       "<polygon fill=\"black\" stroke=\"black\" points=\"292.91,-46.9751 301.409,-44 292.909,-41.0251 292.91,-46.9751\"/>\r\n",
       "<text text-anchor=\"middle\" x=\"276.1\" y=\"-47.8\" font-family=\"Times New Roman,serif\" font-size=\"14.00\"> 1 </text>\r\n",
       "</g>\r\n",
       "<!-- 3&#45;&gt;2 -->\r\n",
       "<g id=\"edge8\" class=\"edge\"><title>3&#45;&gt;2</title>\r\n",
       "<path fill=\"none\" stroke=\"black\" d=\"M216.613,-35.1175C206.623,-30.3417 193.239,-26.1499 181.6,-30 176.129,-31.8097 170.817,-34.8421 166.053,-38.2101\"/>\r\n",
       "<polygon fill=\"black\" stroke=\"black\" points=\"163.948,-36.0788 159.074,-43.6514 167.607,-40.7712 163.948,-36.0788\"/>\r\n",
       "<text text-anchor=\"middle\" x=\"189.1\" y=\"-33.8\" font-family=\"Times New Roman,serif\" font-size=\"14.00\"> 0 </text>\r\n",
       "</g>\r\n",
       "</g>\r\n",
       "</svg>\r\n"
      ],
      "text/plain": [
       "<graphviz.dot.Digraph at 0x18c7f52ce50>"
      ]
     },
     "execution_count": 222,
     "metadata": {},
     "output_type": "execute_result"
    }
   ],
   "source": [
    "min_dfav.show_diagram()"
   ]
  },
  {
   "cell_type": "markdown",
   "id": "77ed825e",
   "metadata": {},
   "source": [
    "## Construction à l'aide de l'algorithme de \\textsc{Knuth-Morris-Pratt}\n",
    "L'algorithme KMP consiste à construire récursivement un automate reconnaissant $u$ défini par (on note $P(u)$ l'ensemble des préfixes de $u$): $(A,P(u), \\{\\epsilon\\}, \\{u\\},\\delta)$ où $\\forall p\\in P(u), \\forall x \\in \\Sigma, \\delta(p,x) = s(px)$ en notant $s(v)$ le plus long suffixe de $v$ appartenant à $P(u)$. Cela demande moins de travail, permet de construire explicitement l'automate sans avoir à recourir aux techniques de minimisation, coûteuses en opérations. D'autre part, cela permet aussi de s'affranchir du besoin de la bibliothèque `automata` et de remplir ensuite la table de transition pour appliquer la méthode de \\textsc{Karnaugh} directement avec Sympy."
   ]
  },
  {
   "cell_type": "code",
   "execution_count": 223,
   "id": "e842aa07",
   "metadata": {},
   "outputs": [
    {
     "data": {
      "image/svg+xml": [
       "<?xml version=\"1.0\" encoding=\"UTF-8\" standalone=\"no\"?>\r\n",
       "<!DOCTYPE svg PUBLIC \"-//W3C//DTD SVG 1.1//EN\"\r\n",
       " \"http://www.w3.org/Graphics/SVG/1.1/DTD/svg11.dtd\">\r\n",
       "<!-- Generated by graphviz version 2.38.0 (20140413.2041)\r\n",
       " -->\r\n",
       "<!-- Title: %3 Pages: 1 -->\r\n",
       "<svg width=\"369pt\" height=\"131pt\"\r\n",
       " viewBox=\"0.00 0.00 368.69 131.06\" xmlns=\"http://www.w3.org/2000/svg\" xmlns:xlink=\"http://www.w3.org/1999/xlink\">\r\n",
       "<g id=\"graph0\" class=\"graph\" transform=\"scale(1 1) rotate(0) translate(4 127.058)\">\r\n",
       "<title>%3</title>\r\n",
       "<polygon fill=\"white\" stroke=\"none\" points=\"-4,4 -4,-127.058 364.692,-127.058 364.692,4 -4,4\"/>\r\n",
       "<!-- Initial -->\r\n",
       "<g id=\"node1\" class=\"node\"><title>Initial</title>\r\n",
       "<ellipse fill=\"black\" stroke=\"black\" cx=\"1.8\" cy=\"-72.0583\" rx=\"1.8\" ry=\"1.8\"/>\r\n",
       "</g>\r\n",
       "<!-- e -->\r\n",
       "<g id=\"node5\" class=\"node\"><title>e</title>\r\n",
       "<ellipse fill=\"none\" stroke=\"black\" cx=\"58.6\" cy=\"-72.0583\" rx=\"18\" ry=\"18\"/>\r\n",
       "<text text-anchor=\"middle\" x=\"58.6\" y=\"-68.3583\" font-family=\"Times New Roman,serif\" font-size=\"14.00\">e</text>\r\n",
       "</g>\r\n",
       "<!-- Initial&#45;&gt;e -->\r\n",
       "<g id=\"edge1\" class=\"edge\"><title>Initial&#45;&gt;e</title>\r\n",
       "<path fill=\"none\" stroke=\"black\" d=\"M3.75116,-72.0583C7.2508,-72.0583 19.839,-72.0583 31.9645,-72.0583\"/>\r\n",
       "<polygon fill=\"black\" stroke=\"black\" points=\"32.0754,-75.0334 40.5754,-72.0583 32.0753,-69.0834 32.0754,-75.0334\"/>\r\n",
       "</g>\r\n",
       "<!-- 0 -->\r\n",
       "<g id=\"node2\" class=\"node\"><title>0</title>\r\n",
       "<ellipse fill=\"none\" stroke=\"black\" cx=\"145.6\" cy=\"-20.0583\" rx=\"18\" ry=\"18\"/>\r\n",
       "<text text-anchor=\"middle\" x=\"145.6\" y=\"-16.3583\" font-family=\"Times New Roman,serif\" font-size=\"14.00\">0</text>\r\n",
       "</g>\r\n",
       "<!-- 0&#45;&gt;0 -->\r\n",
       "<g id=\"edge4\" class=\"edge\"><title>0&#45;&gt;0</title>\r\n",
       "<path fill=\"none\" stroke=\"black\" d=\"M138.217,-36.7224C136.577,-46.6833 139.038,-56.0583 145.6,-56.0583 150.112,-56.0583 152.685,-51.6272 153.319,-45.6209\"/>\r\n",
       "<polygon fill=\"black\" stroke=\"black\" points=\"156.277,-45.1039 152.983,-36.7224 150.331,-45.3287 156.277,-45.1039\"/>\r\n",
       "<text text-anchor=\"middle\" x=\"145.6\" y=\"-59.8583\" font-family=\"Times New Roman,serif\" font-size=\"14.00\"> 0 </text>\r\n",
       "</g>\r\n",
       "<!-- 01 -->\r\n",
       "<g id=\"node3\" class=\"node\"><title>01</title>\r\n",
       "<ellipse fill=\"none\" stroke=\"black\" cx=\"234.098\" cy=\"-46.0583\" rx=\"19.4965\" ry=\"19.4965\"/>\r\n",
       "<text text-anchor=\"middle\" x=\"234.098\" y=\"-42.3583\" font-family=\"Times New Roman,serif\" font-size=\"14.00\">01</text>\r\n",
       "</g>\r\n",
       "<!-- 0&#45;&gt;01 -->\r\n",
       "<g id=\"edge5\" class=\"edge\"><title>0&#45;&gt;01</title>\r\n",
       "<path fill=\"none\" stroke=\"black\" d=\"M161.473,-29.0477C167.528,-32.3462 174.713,-35.8174 181.6,-38.0583 189.227,-40.5397 197.746,-42.2619 205.625,-43.4531\"/>\r\n",
       "<polygon fill=\"black\" stroke=\"black\" points=\"205.351,-46.4176 214.168,-44.5845 206.132,-40.5191 205.351,-46.4176\"/>\r\n",
       "<text text-anchor=\"middle\" x=\"189.1\" y=\"-44.8583\" font-family=\"Times New Roman,serif\" font-size=\"14.00\"> 1 </text>\r\n",
       "</g>\r\n",
       "<!-- 01&#45;&gt;0 -->\r\n",
       "<g id=\"edge6\" class=\"edge\"><title>01&#45;&gt;0</title>\r\n",
       "<path fill=\"none\" stroke=\"black\" d=\"M219.403,-32.6639C213.018,-27.3358 204.984,-21.8223 196.6,-19.0583 188.931,-16.5302 180.236,-15.9708 172.272,-16.2835\"/>\r\n",
       "<polygon fill=\"black\" stroke=\"black\" points=\"171.929,-13.3261 163.684,-16.9486 172.388,-19.2583 171.929,-13.3261\"/>\r\n",
       "<text text-anchor=\"middle\" x=\"189.1\" y=\"-22.8583\" font-family=\"Times New Roman,serif\" font-size=\"14.00\"> 0 </text>\r\n",
       "</g>\r\n",
       "<!-- 011 -->\r\n",
       "<g id=\"node4\" class=\"node\"><title>011</title>\r\n",
       "<ellipse fill=\"none\" stroke=\"black\" cx=\"332.644\" cy=\"-46.0583\" rx=\"24.089\" ry=\"24.089\"/>\r\n",
       "<ellipse fill=\"none\" stroke=\"black\" cx=\"332.644\" cy=\"-46.0583\" rx=\"28.0958\" ry=\"28.0958\"/>\r\n",
       "<text text-anchor=\"middle\" x=\"332.644\" y=\"-42.3583\" font-family=\"Times New Roman,serif\" font-size=\"14.00\">011</text>\r\n",
       "</g>\r\n",
       "<!-- 01&#45;&gt;011 -->\r\n",
       "<g id=\"edge7\" class=\"edge\"><title>01&#45;&gt;011</title>\r\n",
       "<path fill=\"none\" stroke=\"black\" d=\"M253.713,-46.0583C265.602,-46.0583 281.41,-46.0583 295.679,-46.0583\"/>\r\n",
       "<polygon fill=\"black\" stroke=\"black\" points=\"295.817,-49.0334 304.317,-46.0583 295.817,-43.0834 295.817,-49.0334\"/>\r\n",
       "<text text-anchor=\"middle\" x=\"279.097\" y=\"-49.8583\" font-family=\"Times New Roman,serif\" font-size=\"14.00\"> 1 </text>\r\n",
       "</g>\r\n",
       "<!-- 011&#45;&gt;0 -->\r\n",
       "<g id=\"edge8\" class=\"edge\"><title>011&#45;&gt;0</title>\r\n",
       "<path fill=\"none\" stroke=\"black\" d=\"M309.374,-29.8074C294.421,-19.9348 273.823,-8.26143 253.597,-3.05831 225.615,4.13962 192.69,-3.42124 170.829,-10.6208\"/>\r\n",
       "<polygon fill=\"black\" stroke=\"black\" points=\"169.795,-7.83037 162.745,-13.4335 171.751,-13.4499 169.795,-7.83037\"/>\r\n",
       "<text text-anchor=\"middle\" x=\"234.098\" y=\"-6.85831\" font-family=\"Times New Roman,serif\" font-size=\"14.00\"> 0 </text>\r\n",
       "</g>\r\n",
       "<!-- 011&#45;&gt;e -->\r\n",
       "<g id=\"edge9\" class=\"edge\"><title>011&#45;&gt;e</title>\r\n",
       "<path fill=\"none\" stroke=\"black\" d=\"M306.948,-57.4774C291.89,-63.7864 272.052,-70.9584 253.597,-74.0583 198.309,-83.3447 183.566,-83.3391 127.6,-80.0583 113.563,-79.2355 97.9798,-77.465 85.2761,-75.7983\"/>\r\n",
       "<polygon fill=\"black\" stroke=\"black\" points=\"85.4215,-72.8158 76.5981,-74.6181 84.6196,-78.7115 85.4215,-72.8158\"/>\r\n",
       "<text text-anchor=\"middle\" x=\"189.1\" y=\"-84.8583\" font-family=\"Times New Roman,serif\" font-size=\"14.00\"> 1 </text>\r\n",
       "</g>\r\n",
       "<!-- e&#45;&gt;0 -->\r\n",
       "<g id=\"edge2\" class=\"edge\"><title>e&#45;&gt;0</title>\r\n",
       "<path fill=\"none\" stroke=\"black\" d=\"M74.4059,-63.0006C87.6913,-54.8731 107.372,-42.8333 122.516,-33.5687\"/>\r\n",
       "<polygon fill=\"black\" stroke=\"black\" points=\"124.266,-35.9858 129.964,-29.0122 121.16,-30.9103 124.266,-35.9858\"/>\r\n",
       "<text text-anchor=\"middle\" x=\"102.1\" y=\"-52.8583\" font-family=\"Times New Roman,serif\" font-size=\"14.00\"> 0 </text>\r\n",
       "</g>\r\n",
       "<!-- e&#45;&gt;e -->\r\n",
       "<g id=\"edge3\" class=\"edge\"><title>e&#45;&gt;e</title>\r\n",
       "<path fill=\"none\" stroke=\"black\" d=\"M52.2208,-89.0956C50.9189,-98.9162 53.0453,-108.058 58.6,-108.058 62.4188,-108.058 64.6173,-103.737 65.1953,-97.8454\"/>\r\n",
       "<polygon fill=\"black\" stroke=\"black\" points=\"68.1633,-97.5195 64.9792,-89.0956 62.2151,-97.6665 68.1633,-97.5195\"/>\r\n",
       "<text text-anchor=\"middle\" x=\"58.6\" y=\"-111.858\" font-family=\"Times New Roman,serif\" font-size=\"14.00\"> 1 </text>\r\n",
       "</g>\r\n",
       "</g>\r\n",
       "</svg>\r\n"
      ],
      "text/plain": [
       "<graphviz.dot.Digraph at 0x18c7f517790>"
      ]
     },
     "execution_count": 223,
     "metadata": {},
     "output_type": "execute_result"
    }
   ],
   "source": [
    "motBinaire = \"011\"\n",
    "prefixesMotBinaire = ['e']+[motBinaire[:l] for l in range(1,len(motBinaire)+1)]\n",
    "\n",
    "alphabet = {\"0\",\"1\"}\n",
    "etats = set(prefixesMotBinaire)\n",
    "\n",
    "delta = {p:{} for p in prefixesMotBinaire}\n",
    "\n",
    "# on complète les transitions absorbantes pour le premier état\n",
    "delta['e']['0'] = 'e' if motBinaire[0] != '0' else motBinaire[0]\n",
    "delta['e']['1'] = 'e' if motBinaire[0] != '1' else motBinaire[0]\n",
    "\n",
    "# on remplit les transitions à l'aide de l'algorithme KMP\n",
    "for i in range(0,len(motBinaire)):\n",
    "    p = motBinaire[0:i+1]\n",
    "    # print(f'ajout de {p}')\n",
    "    suffPref0 = [p[j:]+'0' for j in range(len(p)+1) if p[j:]+'0' in prefixesMotBinaire]\n",
    "    suffPref1 = [p[j:]+'1' for j in range(len(p)+1) if p[j:]+'1' in prefixesMotBinaire]\n",
    "    delta[p]['0'] = max(suffPref0, key=len) if suffPref0 != [] else 'e'\n",
    "    # print(f'suffixes pour les transition lisant 0: {suffPref0}')\n",
    "    # print(f'suffixes pour les transition lisant 1: {suffPref1}')\n",
    "    delta[p]['1'] = max(suffPref1, key=len) if suffPref1 != [] else 'e'\n",
    "\n",
    "dfaKMP = DFA(states=etats, input_symbols=alphabet, transitions=delta, initial_state='e', final_states={motBinaire})\n",
    "dfaKMPv = VisualDFA(dfaKMP)\n",
    "dfaKMPv.show_diagram(path='./dfaKMP.png')"
   ]
  },
  {
   "cell_type": "markdown",
   "id": "207d6ae1",
   "metadata": {},
   "source": [
    "On obtient exactement le même automate que celui de la section précédente, par déterminisation. Mais nous n'avons pas utilisé l'algorithme de \\textsc{Moore}. Remarque: comme tout à l'heure pour obtenir l'automate reconnaissant $\\Sigma^*u\\Sigma^*$ il suffit de transformer l'état acceptant en puits."
   ]
  },
  {
   "cell_type": "code",
   "execution_count": 224,
   "id": "9dcbe710",
   "metadata": {},
   "outputs": [
    {
     "data": {
      "text/plain": [
       "True"
      ]
     },
     "execution_count": 224,
     "metadata": {},
     "output_type": "execute_result"
    }
   ],
   "source": [
    "dfaKMP <= min_dfa and dfaKMP <= min_dfa"
   ]
  },
  {
   "cell_type": "markdown",
   "id": "924d4323",
   "metadata": {},
   "source": [
    "# Création des formules en logique booléennes pour l'implémentation dans LTSpice"
   ]
  },
  {
   "cell_type": "code",
   "execution_count": 225,
   "id": "4dde5087",
   "metadata": {},
   "outputs": [
    {
     "name": "stdout",
     "output_type": "stream",
     "text": [
      "Nomenclature: [poids fort] e1 e0 [poids faible]\n",
      "\n",
      "[SOP du bit de poids 2^1] =  ~char | (e1 & ~e0)\n",
      "\n",
      "[SOP du bit de poids 2^0] =  char & e1\n",
      "\n",
      "[SOP d'acceptation] =  e0 & e1\n"
     ]
    }
   ],
   "source": [
    "## On crée ensuite la table de transition\n",
    "def integer2binaryArray(i,nBits):\n",
    "    return np.chararray.astype(np.array(list( format(i, f\"0{nBits}b\") )),int)\n",
    "\n",
    "nStates = len(min_dfav.states)\n",
    "lAlpha  = len(min_dfav.input_symbols)\n",
    "bStates = np.ceil(np.log2(nStates)).astype(int)\n",
    "bAlpha = np.ceil(np.log2(lAlpha)).astype(int)\n",
    "transitionTable = np.zeros((lAlpha*nStates,2*(bStates+2)),dtype=int)\n",
    "\n",
    "for e in sorted(min_dfav.states):\n",
    "    en = int(e)\n",
    "    for c in sorted(min_dfav.input_symbols):\n",
    "        cn = int(c)\n",
    "        # numéro état de départ\n",
    "        transitionTable[en*lAlpha+cn][0]                            = e\n",
    "        # codage binaire état de départ\n",
    "        transitionTable[en*lAlpha+cn][1:bStates+1]                  = integer2binaryArray(en,bStates)\n",
    "        # numéro du caractère lu\n",
    "        transitionTable[en*lAlpha+cn][bStates+1]                    = cn\n",
    "        # numéro état d'arrivée\n",
    "        transitionTable[en*lAlpha+cn][bStates+2]                    = int(min_dfav.transitions[e][c])\n",
    "        # codage binaire état arrivée\n",
    "        transitionTable[en*lAlpha+cn][bStates+3:bStates+3+bStates]  = \\\n",
    "        integer2binaryArray(int(min_dfav.transitions[e][c]),bStates)\n",
    "        # sortie (binaire): état acceptant ou non\n",
    "        transitionTable[en*lAlpha+cn][bStates+3+bStates]            = \\\n",
    "        int(min_dfav.transitions[e][c] in min_dfav.final_states)\n",
    "\n",
    "## Réduction par l'algorithme de Quine-McCluskey pour chaque bit de codage de l'état:\n",
    "## On utilise ici la bibliothèque scientifique sympy\n",
    "\n",
    "\n",
    "caracteresCodageEtat = ' '.join([f'e{bStates-j-1}' for j in range(bStates)]) # list(string.ascii_lowercase)[:bStates]\n",
    "symbSortie = sympy.symbols(caracteresCodageEtat)\n",
    "symbEtats  = sympy.symbols(caracteresCodageEtat+' char')\n",
    "\n",
    "\n",
    "\n",
    "def solveEtats(q):\n",
    "    dontcares = [list(np.append(integer2binaryArray(m,bStates),a)) for (m,a) in \\\n",
    "                 itertools.product(range(nStates,2**bStates),range(lAlpha))]\n",
    "    minterms = [list(r[1:bStates+2]) for r in transitionTable if r[q]]\n",
    "    return sympy.logic.SOPform(list(symbEtats), minterms, dontcares)\n",
    "\n",
    "def solveSortie(q):\n",
    "    dontcares = [list(integer2binaryArray(m,bStates)) for m in range(nStates,2**bStates)]\n",
    "    minterms = [list(r[1:bStates+1]) for r in transitionTable if r[q]]\n",
    "    return sympy.logic.SOPform(list(symbSortie), minterms, dontcares)\n",
    "    \n",
    "print(\"Nomenclature: [poids fort] \"+caracteresCodageEtat+\" [poids faible]\\n\")\n",
    "for q in range(bStates+3,bStates+3+bStates):\n",
    "    print(f\"[SOP du bit de poids 2^{2*bStates+2-q}] =  {solveEtats(q)}\\n\")\n",
    "\n",
    "print(f\"[SOP d'acceptation] =  {solveSortie(2*bStates+3)}\")"
   ]
  },
  {
   "cell_type": "markdown",
   "id": "9413d2c8",
   "metadata": {},
   "source": [
    "Ces formules minimales sont à insérer dans le schéma pour fabriquer une machine de Moore, voir poly de STI\n",
    "Ci-dessous on affiche la table de transision"
   ]
  },
  {
   "cell_type": "code",
   "execution_count": 27,
   "id": "417092a9",
   "metadata": {},
   "outputs": [
    {
     "name": "stdout",
     "output_type": "stream",
     "text": [
      "q  bin(q)  | a | Δ(q,a)          acc?\n",
      "-----------------------------------\n",
      "0  [0 0 0] | 0 | 0     [0 0 0] | 0\n",
      "0  [0 0 0] | 1 | 3     [0 1 1] | 0\n",
      "1  [0 0 1] | 0 | 0     [0 0 0] | 0\n",
      "1  [0 0 1] | 1 | 5     [1 0 1] | 0\n",
      "2  [0 1 0] | 0 | 1     [0 0 1] | 1\n",
      "2  [0 1 0] | 1 | 3     [0 1 1] | 0\n",
      "3  [0 1 1] | 0 | 4     [1 0 0] | 0\n",
      "3  [0 1 1] | 1 | 3     [0 1 1] | 0\n",
      "4  [1 0 0] | 0 | 0     [0 0 0] | 0\n",
      "4  [1 0 0] | 1 | 5     [1 0 1] | 0\n",
      "5  [1 0 1] | 0 | 4     [1 0 0] | 0\n",
      "5  [1 0 1] | 1 | 2     [0 1 0] | 0\n"
     ]
    }
   ],
   "source": [
    "def espaceAdaptatif(t,d):\n",
    "    return str(t) + (d-len(str(t)))*' '\n",
    "\n",
    "def afficheMatrice(mat):\n",
    "    print('q  bin(q)'+(2*bStates-4)*' '+'| a | Δ(q,a)'+(2*bStates+4)*' '+'acc?')\n",
    "    print((2*bStates+29)*'-')\n",
    "    for i in range(np.shape(mat)[0]):\n",
    "        t = ''\n",
    "        t += espaceAdaptatif(mat[i][0],3)  \\\n",
    "          + str(mat[i][1:bStates+1]) + ' | ' + str(mat[i][bStates+1]) + ' | ' + espaceAdaptatif(mat[i][bStates+2],2) +4*' ' + str(mat[i][bStates+3:2*bStates+3]) + ' | ' + str(mat[i][-1]) \n",
    "        print(t)\n",
    "afficheMatrice(transitionTable)"
   ]
  },
  {
   "cell_type": "markdown",
   "id": "bba53ad6",
   "metadata": {},
   "source": [
    "On peut ainsi créer le schéma à partir des formules fournies par le code dans LTSpice :\n",
    "<img src=\"schema.png\" width=\"800\"/>\n",
    "\\begin{figure}[htbp]\n",
    "\\centering\n",
    "\\includegraphics[width=0.8\\textwidth,trim={0cm 0cm 0cm 0cm},clip]{schema.png}\n",
    "\\caption{Schéma électrique}\n",
    "\\label{fig:schema}\n",
    "\\end{figure}\n",
    "et constater que le résultat donné est bien celui attendu (figure \\ref{fig:schema} et \\ref{fig:chronogramme}). Le circuit valide une entrée se terminant par '011' sur les fronts montants.\n",
    "<img src=\"tensions.png\"/>\n",
    "\\begin{figure}[htbp]\n",
    "\\centering\n",
    "\\includegraphics[width=0.8\\textwidth,trim={0cm 0cm 0cm 0cm},clip]{tensions.png}\n",
    "\\caption{Chronogramme du schéma électrique}\n",
    "\\label{fig:chronogramme}\n",
    "\\end{figure}"
   ]
  },
  {
   "cell_type": "code",
   "execution_count": null,
   "id": "2810aca3",
   "metadata": {},
   "outputs": [],
   "source": []
  },
  {
   "cell_type": "markdown",
   "id": "d264ab84",
   "metadata": {},
   "source": [
    "#### Brouillon"
   ]
  },
  {
   "cell_type": "code",
   "execution_count": 28,
   "id": "3fb5d97f",
   "metadata": {},
   "outputs": [
    {
     "data": {
      "text/plain": [
       "[u, v, c]"
      ]
     },
     "execution_count": 28,
     "metadata": {},
     "output_type": "execute_result"
    }
   ],
   "source": [
    "list(symbols('u v c'))"
   ]
  },
  {
   "cell_type": "code",
   "execution_count": 29,
   "id": "37c6df21",
   "metadata": {},
   "outputs": [],
   "source": [
    "alphabet_string = string.ascii_lowercase\n",
    "alphabet_list = list(alphabet_string)"
   ]
  },
  {
   "cell_type": "code",
   "execution_count": 30,
   "id": "504e837f",
   "metadata": {},
   "outputs": [
    {
     "data": {
      "text/plain": [
       "'a b c d e f g h i j k l m n o p q r s t u v w x y z'"
      ]
     },
     "execution_count": 30,
     "metadata": {},
     "output_type": "execute_result"
    }
   ],
   "source": [
    "symb = ' '.join(alphabet_list)\n",
    "symb"
   ]
  },
  {
   "cell_type": "code",
   "execution_count": 31,
   "id": "f3fc7932",
   "metadata": {},
   "outputs": [
    {
     "data": {
      "text/plain": [
       "[a, b, c, d, e, f, g, h, i, j, k, l, m, n, o, p, q, r, s, t, u, v, w, x, y, z]"
      ]
     },
     "execution_count": 31,
     "metadata": {},
     "output_type": "execute_result"
    }
   ],
   "source": [
    "list(symbols(symb))\n"
   ]
  },
  {
   "cell_type": "code",
   "execution_count": 32,
   "id": "3688b35c",
   "metadata": {},
   "outputs": [
    {
     "data": {
      "text/plain": [
       "'a b c etat'"
      ]
     },
     "execution_count": 32,
     "metadata": {},
     "output_type": "execute_result"
    }
   ],
   "source": [
    "' '.join(alphabet_list[:bStates])+' etat'"
   ]
  }
 ],
 "metadata": {
  "authors": [
   {
    "name": "Matthias Personnaz (ECL20)"
   }
  ],
  "kernelspec": {
   "display_name": "Python 3 (ipykernel)",
   "language": "python",
   "name": "python3"
  },
  "language_info": {
   "codemirror_mode": {
    "name": "ipython",
    "version": 3
   },
   "file_extension": ".py",
   "mimetype": "text/x-python",
   "name": "python",
   "nbconvert_exporter": "python",
   "pygments_lexer": "ipython3",
   "version": "3.8.12"
  }
 },
 "nbformat": 4,
 "nbformat_minor": 5
}
